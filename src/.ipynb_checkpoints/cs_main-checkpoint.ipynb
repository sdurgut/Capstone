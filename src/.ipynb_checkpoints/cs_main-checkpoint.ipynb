{
 "cells": [
  {
   "cell_type": "markdown",
   "metadata": {},
   "source": [
    "# Import libraries"
   ]
  },
  {
   "cell_type": "code",
   "execution_count": 25,
   "metadata": {
    "collapsed": true
   },
   "outputs": [],
   "source": [
    "import math\n",
    "\n",
    "import numpy as np\n",
    "import scipy as sp\n",
    "import pandas as pd\n",
    "import pylab as pl\n",
    "from pykalman import KalmanFilter\n",
    "\n",
    "import matplotlib as mpl\n",
    "import matplotlib.pyplot as plt\n",
    "import seaborn as sns\n",
    "import networkx as nx\n",
    "\n",
    "\n",
    "\n",
    "\n",
    "\n"
   ]
  },
  {
   "cell_type": "code",
   "execution_count": 2,
   "metadata": {
    "collapsed": true
   },
   "outputs": [],
   "source": [
    "import warnings\n",
    "warnings.filterwarnings('ignore')"
   ]
  },
  {
   "cell_type": "markdown",
   "metadata": {},
   "source": [
    "# Population Data\n",
    "Data Source : https://seer.cancer.gov/popdata/yr1969_2015.singleages/us.1969_2015.singleages.exe\n",
    "\n",
    "Data Dictionary: https://seer.cancer.gov/popdata/popdic.html\n",
    "\n",
    "Sample data: 1969AL01001991910000000159\n",
    "\n",
    "Year : 4 characters [0-3]\n",
    "\n",
    "State : 2 characters [4-5]\n",
    "\n",
    "State FPIS: 2 characters [6-7]\n",
    "\n",
    "County FPIS: 3 characters [8-10]\n",
    "\n",
    "Registry: 2 characters [11-12]\n",
    "\n",
    "Race: 1 character [13]\n",
    "\n",
    "Origin: 1 character [14]\n",
    "\n",
    "Sex: 1 character [15]\n",
    "\n",
    "Age: 1 character [16-17]\n",
    "\n",
    "Population: 8 characters [18-25]\n"
   ]
  },
  {
   "cell_type": "code",
   "execution_count": 3,
   "metadata": {
    "collapsed": true
   },
   "outputs": [],
   "source": [
    "def readPopulationData():\n",
    "    filename = \"../data/POPULATION/us.1969_2015.singleages.txt\"\n",
    "    f = open(filename,\"r\")\n",
    "    L = f.read()\n",
    "    L = L.split()\n",
    "    \n",
    "    # extract only year, county, and population information\n",
    "    year = []\n",
    "    county = []\n",
    "    population = []\n",
    "    for x in L:\n",
    "        year.append(int(x[:4]))\n",
    "        county.append( str(x[6:11]) )\n",
    "        population.append(int(x[18:]))\n",
    "    myDf = pd.DataFrame({\"YEAR\" : year, \"FIPS\":county,\"POPULATION\":population})\n",
    "    myDf = myDf.groupby(['FIPS','YEAR'], as_index=False).sum()\n",
    "    return myDf\n",
    "\n",
    "# dfPopulation = readPopulationData()\n",
    "# dfPopulation.to_csv(\"../data/POPULATION/population.csv\",index=False)"
   ]
  },
  {
   "cell_type": "markdown",
   "metadata": {},
   "source": [
    "### Load population data"
   ]
  },
  {
   "cell_type": "code",
   "execution_count": 4,
   "metadata": {
    "collapsed": true
   },
   "outputs": [],
   "source": [
    "dfPopulation = pd.read_csv(\"../data/POPULATION/population.csv\")"
   ]
  },
  {
   "cell_type": "markdown",
   "metadata": {},
   "source": [
    "### Create population list of counties for each year"
   ]
  },
  {
   "cell_type": "code",
   "execution_count": 5,
   "metadata": {
    "collapsed": true
   },
   "outputs": [],
   "source": [
    "def createPopulationListPerCounty(dfPopulation):\n",
    "    yearList = np.arange(1975,2016)\n",
    "    dfPopulationList = []\n",
    "    for y in np.arange(1975,2016):\n",
    "        tmp = dfPopulation[dfPopulation[\"YEAR\"] == y]\n",
    "        tmp[\"FIPS\"] = tmp[\"FIPS\"].astype(str)\n",
    "        tmp[\"FIPS\"] = tmp[\"FIPS\"].str.zfill(5)\n",
    "        dfPopulationList.append( tmp )\n",
    "    return dfPopulationList  \n",
    "\n",
    "dfPopulationList = createPopulationListPerCounty(dfPopulation) \n",
    "# dfPopulationList[40]"
   ]
  },
  {
   "cell_type": "markdown",
   "metadata": {},
   "source": [
    "# County Geo Location Data\n",
    "Get the county data from wikipedia, in which every county has longitude and lattidue coordinates.\n",
    "Also find the nearest neighbors for each county."
   ]
  },
  {
   "cell_type": "code",
   "execution_count": 6,
   "metadata": {
    "collapsed": true
   },
   "outputs": [],
   "source": [
    "# df = pd.read_html('https://en.wikipedia.org/wiki/User:Michael_J/County_table', header=0, parse_dates=False)\n",
    "# df[0].to_csv(\"../data/COUNTYCODES/CountyData.csv\",index=False)"
   ]
  },
  {
   "cell_type": "code",
   "execution_count": 7,
   "metadata": {
    "collapsed": true
   },
   "outputs": [],
   "source": [
    "# load the data again\n",
    "dfGeo = pd.read_csv(\"../data/COUNTYCODES/CountyData.csv\")\n",
    "# drop some columns that are not interesting for our case.\n",
    "dfGeo.drop(['Sort [1]','County Seat(s) [3]','Land Area mi²','Water Area mi²','Total Area mi²'], axis=1, inplace = True)\n",
    "# fix the problematic non utf-8 characters\n",
    "dfGeo['Latitude'] = dfGeo['Latitude'].apply(lambda x: float(x.split(\"°\")[0].encode(\"utf-8\")))\n",
    "dfGeo['Longitude'] = dfGeo['Longitude'].apply(lambda x: float(x.split(\"°\")[0].replace('–',\"-\").encode(\"utf-8\")))\n",
    "dfGeo.rename(columns={'County [2]': 'County'}, inplace=True)\n",
    "dfGeo['County'] = dfGeo['County'].apply( lambda x : x.split('[')[0].strip() )\n",
    "# convert FPIS codes to strings and make them 5 digits so that 1001 becomes 01001\n",
    "dfGeo[\"FIPS\"] = dfGeo[\"FIPS\"].astype(str)\n",
    "dfGeo[\"FIPS\"] = dfGeo[\"FIPS\"].str.zfill(5)"
   ]
  },
  {
   "cell_type": "markdown",
   "metadata": {},
   "source": [
    "create FPIS, County dictionary "
   ]
  },
  {
   "cell_type": "code",
   "execution_count": 8,
   "metadata": {
    "collapsed": true
   },
   "outputs": [],
   "source": [
    "def createFPISDictionary(dfGeo):\n",
    "    tmp = dfGeo[['FIPS', 'State', 'County']].copy()\n",
    "    tmp['StateandCounty'] = tmp['County']+\", \"+tmp[\"State\"]\n",
    "    tmp.drop(['State','County'], axis=1, inplace = True)\n",
    "    tmp = tmp.set_index('FIPS')\n",
    "    myDict = tmp.to_dict()\n",
    "    return myDict\n",
    "my_FIPS_Dic = createFPISDictionary(dfGeo)\n",
    "# my_FIPS_Dic\n",
    "\n",
    "my_LatLong_Dic = dfGeo[['FIPS',\"Latitude\",\"Longitude\"]].set_index(['FIPS']).to_dict()"
   ]
  },
  {
   "cell_type": "markdown",
   "metadata": {},
   "source": [
    "Calculate the distance between two counties to get the neighboring counties"
   ]
  },
  {
   "cell_type": "code",
   "execution_count": 9,
   "metadata": {
    "collapsed": true
   },
   "outputs": [],
   "source": [
    "# calculate the distance between 2 points\n",
    "def calculateDistance(latt1,long1,latt2,long2):\n",
    "    \n",
    "    R = 6373.0 # raidus of earth in km\n",
    "    lat1 = math.radians(latt1)\n",
    "    lon1 = math.radians(long1)\n",
    "    lat2 = math.radians(latt2)\n",
    "    lon2 = math.radians(long2)\n",
    "    \n",
    "    dlon = lon2 - lon1\n",
    "    dlat = lat2 - lat1\n",
    "\n",
    "    a = math.sin(dlat / 2)**2 + math.cos(lat1) * math.cos(lat2) * math.sin(dlon / 2)**2\n",
    "    c = 2 * math.atan2(math.sqrt(a), math.sqrt(1 - a))\n",
    "\n",
    "    distance = R * c\n",
    "    return distance # returns the distance in km's\n",
    "\n",
    "#calculateDistance(95,46,32,30)"
   ]
  },
  {
   "cell_type": "code",
   "execution_count": 10,
   "metadata": {
    "collapsed": true
   },
   "outputs": [],
   "source": [
    "# Some counties have either missing information or they became counties after 1975. \n",
    "# Ignore missing information when fitting\n",
    "def shrinkFitRange(yearList,deathList):\n",
    "   \n",
    "    i = 0\n",
    "    y = deathList\n",
    "    x = yearList\n",
    "    while (deathList[i]==0) and i < (len(deathList)-1):\n",
    "        y = deathList[i+1:]\n",
    "        x = yearList[i+1:]\n",
    "        i = i+1\n",
    "\n",
    "    i = len(y)-1\n",
    "    new_x = x\n",
    "    new_y = y\n",
    "    while (y[i]==0) and (i > 0):\n",
    "        new_y = y[:i-1]\n",
    "        new_x = x[:i-1]\n",
    "        i = i-1\n",
    "    \n",
    "    return new_x,new_y"
   ]
  },
  {
   "cell_type": "code",
   "execution_count": 11,
   "metadata": {
    "collapsed": true
   },
   "outputs": [],
   "source": [
    "def movingaverage(interval, window_size):\n",
    "    window= np.ones(int(window_size))/float(window_size)\n",
    "    return np.convolve(interval, window, 'valid')"
   ]
  },
  {
   "cell_type": "markdown",
   "metadata": {},
   "source": [
    "### Create a network graph of counties with edge weights as distances"
   ]
  },
  {
   "cell_type": "code",
   "execution_count": 12,
   "metadata": {
    "collapsed": true
   },
   "outputs": [],
   "source": [
    "def createGraph(my_LatLong_Dic):    \n",
    "    G = nx.Graph()\n",
    "    for k_1,v_1 in my_LatLong_Dic['Latitude'].items():\n",
    "        for k_2,v_2 in my_LatLong_Dic['Longitude'].items():\n",
    "            distance = calculateDistance(my_LatLong_Dic['Latitude'][k_1],my_LatLong_Dic['Longitude'][k_1],my_LatLong_Dic['Latitude'][k_2],my_LatLong_Dic['Longitude'][k_2])\n",
    "            G.add_edge(k_1,k_2, distance=distance)\n",
    "    return G\n",
    "\n",
    "\n",
    "# myDistanceGraph = createGraph(my_LatLong_Dic)"
   ]
  },
  {
   "cell_type": "markdown",
   "metadata": {},
   "source": [
    "# Load Vehicle Crash Data\n",
    "Data is provided at https://www.nhtsa.gov/research-data/fatality-analysis-reporting-system-fars with separate files for each year.\n",
    "\n",
    "## Manual:\n",
    "\n",
    "Manual can be foun here: https://crashstats.nhtsa.dot.gov/Api/Public/Publication/812315\n",
    "\n",
    "Weather Conditions: 1:Clear, 2:Rain, 3:Sleet, 4:Snow, 5:Fog, 6:Severe Crosswinds, 7:Blowing Sand, Soil, Dirt, 8:Other: Smog, Smoke, Blowing Sand or Dust, 9: Unknown, 10:Cloudy, 11:Blowing Snow, 12:Freezing Rain or Drizzle"
   ]
  },
  {
   "cell_type": "code",
   "execution_count": 13,
   "metadata": {
    "collapsed": true
   },
   "outputs": [],
   "source": [
    "# read data from Data files and put them into a list of dataframes\n",
    "def readAccidentData():\n",
    "    # fix the decoding error for 1984\n",
    "#     tmp = pd.read_csv(\"../Data/FARS1984/accident.csv\",encoding = 'iso-8859-1')\n",
    "#     tmp.to_csv(\"../Data/FARS1984/accident.csv\",encoding = 'utf-8')\n",
    "    \n",
    "    FileList = [ \"FARS1975\",\"FARS1976\",\"FARS1977\",\"FARS1978\",\"FARS1979\",\"FARS1980\",\"FARS1981\",\"FARS1982\"\n",
    "            ,\"FARS1983\",\"FARS1984\",\"FARS1985\",\"FARS1986\",\"FARS1987\",\"FARS1988\",\"FARS1989\",\"FARS1990\"\n",
    "            ,\"FARS1991\",\"FARS1992\",\"FARS1993\",\"FARS1994\",\"FARS1995\",\"FARS1996\",\"FARS1997\",\"FARS1998\"\n",
    "            ,\"FARS1999\",\"FARS2000\",\"FARS2001\",\"FARS2002\",\"FARS2003\",\"FARS2004\",\"FARS2005\",\"FARS2006\"\n",
    "            ,\"FARS2007\",\"FARS2008\",\"FARS2009\",\"FARS2010\",\"FARS2011\",\"FARS2012\",\"FARS2013\",\"FARS2014\"\n",
    "            ,\"FARS2015\"\n",
    "           ]\n",
    "    dfList = []\n",
    "    print (\"Reading accident data for each year from 1975 to 2015.\")\n",
    "    for i in FileList:\n",
    "        tmpfilepath = \"../Data/\" + i + \"/accident.csv\"\n",
    "        # print (\"Reading data from {}\".format(i))\n",
    "        tmpdf = pd.read_csv(tmpfilepath,encoding = 'iso-8859-1')\n",
    "#         tmpdfClean = tmpdf[['STATE','COUNTY',\"FATALS\",'MONTH','DAY_WEEK','DAY','YEAR','HOUR','MINUTE','WEATHER']].copy()\n",
    "        dfList.append( tmpdf )\n",
    "    return dfList"
   ]
  },
  {
   "cell_type": "code",
   "execution_count": 14,
   "metadata": {
    "collapsed": true
   },
   "outputs": [],
   "source": [
    "# add the FPIS codes to the dfAccidentList\n",
    "def addcountyCode(dfList):\n",
    "    for i in range(len(dfList)):\n",
    "        dfList[i]['STATE'] = dfList[i]['STATE'].apply(lambda x: int(x))\n",
    "        dfList[i]['STATE'] = dfList[i]['STATE'].apply(lambda x: '{0:0>2}'.format(x))\n",
    "        dfList[i]['COUNTY'] = dfList[i]['COUNTY'].apply(lambda x: int(x))\n",
    "        dfList[i][\"COUNTY\"] = dfList[i][\"COUNTY\"].apply(lambda x: '{0:0>3}'.format(x))\n",
    "        dfList[i][\"FIPS\"] = dfList[i][\"STATE\"].astype(str)+dfList[i][\"COUNTY\"].astype(str)\n",
    "    return dfList"
   ]
  },
  {
   "cell_type": "code",
   "execution_count": 15,
   "metadata": {
    "collapsed": true
   },
   "outputs": [],
   "source": [
    "# remove all the unnecessary columns, keep only FPIS and deaths per year\n",
    "def cleanDataFrame(dfList):\n",
    "    tmpdfList = []\n",
    "    for df in dfList:\n",
    "        tmp = df[[\"FIPS\",\"FATALS\"]].copy()\n",
    "        tmpGrouped = tmp.groupby(['FIPS'], as_index=False).sum()\n",
    "        tmpdfList.append(tmpGrouped)\n",
    "    return tmpdfList\n"
   ]
  },
  {
   "cell_type": "markdown",
   "metadata": {},
   "source": [
    "Combine the functions and get dataframe list of FATALS and FPIS data\n"
   ]
  },
  {
   "cell_type": "code",
   "execution_count": 16,
   "metadata": {},
   "outputs": [
    {
     "name": "stdout",
     "output_type": "stream",
     "text": [
      "Reading accident data for each year from 1975 to 2015.\n"
     ]
    }
   ],
   "source": [
    "dfAccidentListRaw = readAccidentData()\n",
    "dfAccidentListRaw = addcountyCode(dfAccidentListRaw)\n",
    "myDf_AccidentList = cleanDataFrame(dfAccidentListRaw)"
   ]
  },
  {
   "cell_type": "markdown",
   "metadata": {},
   "source": [
    "### Plotting the total fatality distribution from vehicle crashes in U.S"
   ]
  },
  {
   "cell_type": "code",
   "execution_count": 17,
   "metadata": {},
   "outputs": [
    {
     "data": {
      "image/png": "[encoded data removed]",
      "text/plain": [
       "<matplotlib.figure.Figure at 0x1a0fc22630>"
      ]
     },
     "metadata": {},
     "output_type": "display_data"
    }
   ],
   "source": [
    "# plot the total deaths per year and plot\n",
    "def getFatalList(myDf_AccidentList):\n",
    "    FatalList = []\n",
    "    YearList = []\n",
    "    for i in range(len(myDf_AccidentList)):\n",
    "        FatalList.append( myDf_AccidentList[i][\"FATALS\"].sum()  )\n",
    "        YearList.append( i+1975 )\n",
    "    return YearList,FatalList\n",
    "\n",
    "yearList, fatalList = getFatalList(myDf_AccidentList)\n",
    "fig, ax = plt.subplots( nrows=1, ncols=1 )  # create figure & 1 axis\n",
    "ax.plot(yearList,fatalList, alpha=0.8,color='#27384C')\n",
    "plt.xlabel('Year')\n",
    "plt.ylabel('Total Deaths')\n",
    "plt.title(\"Deaths from vehicle crashes in U.S\")\n",
    "fig.savefig('../fig_acc/TotalDeathvsYear.pdf')\n",
    "plt.show()\n",
    "plt.close(fig) # close the figure"
   ]
  },
  {
   "cell_type": "markdown",
   "metadata": {},
   "source": [
    "### How about the fatality distribution per county"
   ]
  },
  {
   "cell_type": "markdown",
   "metadata": {},
   "source": [
    "What if we use Kalman Filter. Kalman filter recursively corrects itself with previous observations."
   ]
  },
  {
   "cell_type": "code",
   "execution_count": 86,
   "metadata": {
    "collapsed": true
   },
   "outputs": [],
   "source": [
    "def rebin(yearList,deathList):\n",
    "    yearList_Rebinned = [i.mean() for i in yearList.reshape(20,2)]\n",
    "    deathList_Rebinned = [i.mean() for i in deathList.reshape(20,2)]\n",
    "    yearList_Rebinned = np.array(yearList_Rebinned)\n",
    "    deathList_Rebinned = np.array(deathList_Rebinned)\n",
    "    deathList_Rebinned = np.nan_to_num(deathList_Rebinned)\n",
    "    \n",
    "    return yearList_Rebinned,deathList_Rebinned\n",
    "            \n",
    "# fill yearList and deathList from myDf_AccidentList dataFrame            \n",
    "def fillYandXData(countyCode):\n",
    "     # fill year and death list\n",
    "    yearList = np.arange(1976,2016)\n",
    "    deathList = np.empty([len(yearList)])\n",
    "    for i in range(len(yearList)):\n",
    "        tmp = myDf_AccidentList[i+1]\n",
    "        tmp = tmp[tmp['FIPS'] == countyCode]\n",
    "        try:\n",
    "            deathList[i] = int(tmp[\"FATALS\"])\n",
    "        except:\n",
    "            deathList[i] = 0\n",
    "    return yearList,deathList"
   ]
  },
  {
   "cell_type": "code",
   "execution_count": 94,
   "metadata": {},
   "outputs": [
    {
     "data": {
      "text/plain": [
       "(7.0, 5.3009209230481833)"
      ]
     },
     "execution_count": 94,
     "metadata": {},
     "output_type": "execute_result"
    }
   ],
   "source": [
    "\n",
    "        \n",
    "def applyKalmanFilter(yearList_binwidth2_train,deathList_binwidth2_train):\n",
    "    delta = 1e-5\n",
    "    trans_cov = delta / (1 - delta) * np.eye(2)   \n",
    "    kf = KalmanFilter(transition_matrices=np.array([[1, 1], [0, 1]]),\n",
    "                  transition_covariance=0.01 * np.eye(2))\n",
    "    states_pred = kf.em(deathList_binwidth2_train).smooth(deathList_binwidth2_train)[0]\n",
    "    fittedArray = states_pred[:, 0]\n",
    "    means, covariances = kf.filter(deathList_binwidth2_train)\n",
    "    next_mean, next_covariance = kf.filter_update( means[-1], covariances[-1])\n",
    "    prediction = next_mean[0]\n",
    "    \n",
    "    return fittedArray,prediction\n",
    "        \n",
    "def plotFatalitiesPerCountyUsingKalman(myDf_AccidentList,countyCode):\n",
    "\n",
    "    # pull the data from dataframe and fill them into arrays \n",
    "    yearList,deathList = fillYandXData(countyCode)\n",
    "           \n",
    "    # rebin the data for better statistics:\n",
    "    yearList_Rebinned,deathList_Rebinned = rebin(yearList,deathList)\n",
    "    # train data is for 1976-2014 range, 2014-2015 range is for prediction\n",
    "    yearList_Rebinned_train = yearList_Rebinned[:len(yearList_Rebinned)-1]\n",
    "    deathList_Rebinned_train = deathList_Rebinned[:len(deathList_Rebinned)-1]\n",
    "    \n",
    "    # apply KalmanFilter\n",
    "    fittedArray,prediction = applyKalmanFilter(yearList_Rebinned_train,deathList_Rebinned_train)\n",
    "\n",
    "    # plot the train data\n",
    "    fig, ax = plt.subplots( nrows=1, ncols=1 )\n",
    "    ax.plot(yearList_Rebinned_train,deathList_Rebinned_train,\"ro\",yearList_Rebinned_train, fittedArray,\"b-\")\n",
    "    plt.xlabel('Year')\n",
    "    plt.ylabel('Total Deaths')\n",
    "    plt.title(my_FIPS_Dic[\"StateandCounty\"][countyCode])\n",
    "    figName = '../fig_acc/AccidentFitwithKalman_Rebinned_'+ countyCode + '.pdf'\n",
    "    fig.savefig(figName)\n",
    "    plt.close(fig)\n",
    "#     plt.show()\n",
    "    \n",
    "    \n",
    "    actual = deathList[len(deathList)-1]\n",
    "    \n",
    "    return actual,prediction\n",
    "\n",
    "    \n",
    "plotFatalitiesPerCountyUsingKalman(myDf_AccidentList,'36099')\n",
    "# loop over all the counties and plot them\n"
   ]
  },
  {
   "cell_type": "markdown",
   "metadata": {},
   "source": [
    "The following function performs polynomial regression, however the order of the polynomial is not always true with different county data. "
   ]
  },
  {
   "cell_type": "code",
   "execution_count": 55,
   "metadata": {},
   "outputs": [],
   "source": [
    "\n",
    "def plotFatalitiesPerCountyUsingPolynomial(myDf_AccidentList,countyCode):\n",
    "    # pull the data from dataframe and fill them into arrays \n",
    "    yearList,deathList = fillYandXData(countyCode)\n",
    "    \n",
    "    # rebin the data for better statistics:\n",
    "    yearList_Rebinned,deathList_Rebinned = rebin(yearList,deathList)\n",
    "    \n",
    "#     yearList_Rebinned_Shrinked,deathList_Rebinned_Shrinked = shrinkFitRange(yearList_Rebinned,deathList_Rebinned)\n",
    "    yearList_Rebinned_Train = yearList_Rebinned[:len(yearList_Rebinned)-1]\n",
    "    deathList_Rebinned_Train = deathList_Rebinned[:len(deathList_Rebinned)-1]\n",
    "    \n",
    "    p = np.polyfit(yearList_Rebinned_Train,deathList_Rebinned_Train,2)\n",
    "    f = np.poly1d(p)\n",
    "    \n",
    "    x_new = np.linspace(yearList_Rebinned_Train[0], yearList_Rebinned_Train[-1], 100)\n",
    "    y_new = f(x_new)\n",
    "\n",
    "    \n",
    "    \n",
    "    fig, ax = plt.subplots( nrows=1, ncols=1 )\n",
    "    ax.plot(yearList_Rebinned_Train,deathList_Rebinned_Train,\"ro\", x_new, y_new)\n",
    "    props = dict(boxstyle='round', facecolor='wheat', alpha=0.5)\n",
    "    plt.xlabel('Year')\n",
    "    plt.ylabel('Total Deaths')\n",
    "    plt.title(my_FIPS_Dic[\"StateandCounty\"][countyCode])\n",
    "    figName = '../fig_acc/AccidentFit_5YearBinWidth'+ countyCode + '.pdf'\n",
    "    fig.savefig(figName)\n",
    "    plt.close(fig) # close the figure\n",
    "#     plt.savefig(\"movingAve.pdf\")\n",
    "#     plt.show()\n",
    "    \n",
    "    prediction = f( yearList_Rebinned[len(yearList_Rebinned)-1] )\n",
    "    actual = deathList_Rebinned[len(deathList_Rebinned)-1]\n",
    "    \n",
    "    \n",
    "    return actual,prediction\n",
    "    \n",
    "\n",
    "# plotFatalitiesPerCounty (myDf_AccidentList,'01001')\n"
   ]
  },
  {
   "cell_type": "markdown",
   "metadata": {},
   "source": [
    "Loop over each county and create a prediction and actual death numbers"
   ]
  },
  {
   "cell_type": "code",
   "execution_count": 95,
   "metadata": {},
   "outputs": [],
   "source": [
    "def predictNumberofDeaths_All(my_FIPS_Dic):\n",
    "    res = []\n",
    "    for k,v in my_FIPS_Dic[\"StateandCounty\"].items():\n",
    "        actual,prediction = plotFatalitiesPerCountyUsingKalman(myDf_AccidentList,k)\n",
    "#         actual,prediction = plotFatalitiesPerCountyUsingPolynomial(myDf_AccidentList,k)\n",
    "        res.append( {\"FIPS\":k,\"Actual\":actual,\"Prediction\":prediction} )\n",
    "    return pd.DataFrame(res)\n",
    "\n",
    "myDf_NumberofDeaths_Results = predictNumberofDeaths_All(my_FIPS_Dic)    "
   ]
  },
  {
   "cell_type": "code",
   "execution_count": 96,
   "metadata": {},
   "outputs": [
    {
     "data": {
      "text/html": [
       "<div>\n",
       "<style>\n",
       "    .dataframe thead tr:only-child th {\n",
       "        text-align: right;\n",
       "    }\n",
       "\n",
       "    .dataframe thead th {\n",
       "        text-align: left;\n",
       "    }\n",
       "\n",
       "    .dataframe tbody tr th {\n",
       "        vertical-align: top;\n",
       "    }\n",
       "</style>\n",
       "<table border=\"1\" class=\"dataframe\">\n",
       "  <thead>\n",
       "    <tr style=\"text-align: right;\">\n",
       "      <th></th>\n",
       "      <th>Actual</th>\n",
       "      <th>Prediction</th>\n",
       "    </tr>\n",
       "  </thead>\n",
       "  <tbody>\n",
       "    <tr>\n",
       "      <th>Actual</th>\n",
       "      <td>1.000000</td>\n",
       "      <td>0.982061</td>\n",
       "    </tr>\n",
       "    <tr>\n",
       "      <th>Prediction</th>\n",
       "      <td>0.982061</td>\n",
       "      <td>1.000000</td>\n",
       "    </tr>\n",
       "  </tbody>\n",
       "</table>\n",
       "</div>"
      ],
      "text/plain": [
       "              Actual  Prediction\n",
       "Actual      1.000000    0.982061\n",
       "Prediction  0.982061    1.000000"
      ]
     },
     "execution_count": 96,
     "metadata": {},
     "output_type": "execute_result"
    }
   ],
   "source": [
    "# myDf_NumberofDeaths_Results.to_csv(\"../data/RESULTS/Deaths_ActualandPredictionUsingPolynomial_4Year.csv\",index=False)\n",
    "myDf_NumberofDeaths_Results.to_csv(\"../data/RESULTS/Deaths_ActualandPredictionUsingKalman_2Year.csv\",index=False)\n",
    "\n",
    "myDf_NumberofDeaths_Results.corr()\n",
    "\n"
   ]
  },
  {
   "cell_type": "markdown",
   "metadata": {},
   "source": [
    "# Plotting the historical population distribution in U.S"
   ]
  },
  {
   "cell_type": "code",
   "execution_count": 66,
   "metadata": {},
   "outputs": [
    {
     "data": {
      "image/png": "[encoded data removed]",
      "text/plain": [
       "<matplotlib.figure.Figure at 0x1a272bbc18>"
      ]
     },
     "metadata": {},
     "output_type": "display_data"
    }
   ],
   "source": [
    "def getYearlyPopulationChange(dfPopulationList):\n",
    "    yearList = []\n",
    "    popList = []\n",
    "    for i in range(40):   \n",
    "        yearList.append(i+1975)\n",
    "        pop = int(dfPopulationList[i].groupby(['YEAR'],as_index=False).sum()['POPULATION'])\n",
    "        popList.append(pop)\n",
    "    return yearList,popList\n",
    "    \n",
    "yearList, popList = getYearlyPopulationChange(dfPopulationList)\n",
    "fig, ax = plt.subplots( nrows=1, ncols=1 )  # create figure & 1 axis\n",
    "ax.plot(yearList,popList,color=\"green\")\n",
    "plt.xlabel('Year')\n",
    "plt.ylabel('Total Population')\n",
    "plt.title(\"Population Change in U.S\")\n",
    "fig.savefig('../fig_pop/TotalPopvsYear.pdf')\n",
    "plt.show()\n",
    "plt.close(fig) # close the figure\n",
    "      "
   ]
  },
  {
   "cell_type": "markdown",
   "metadata": {},
   "source": [
    "### how about popuation increase per county?"
   ]
  },
  {
   "cell_type": "code",
   "execution_count": 21,
   "metadata": {
    "collapsed": true
   },
   "outputs": [],
   "source": [
    "# len(myDistanceGraph.edges())\n",
    "# graphList = nx.to_edgelist(myDistanceGraph)\n",
    "# for edge in graphList:\n",
    "#     if (edge[0]== '01001' and edge [1] == '01005') or (edge[0]== '01005' and edge [1] == '01001'):\n",
    "#         print (edge[2]['distance'])"
   ]
  },
  {
   "cell_type": "markdown",
   "metadata": {},
   "source": [
    "Perform KalmanFilter for population data"
   ]
  },
  {
   "cell_type": "code",
   "execution_count": 97,
   "metadata": {
    "collapsed": true
   },
   "outputs": [],
   "source": [
    "def rebin_Pop(yearList,popList):\n",
    "    yearList_Rebinned = [i.mean() for i in yearList.reshape(20,2)]\n",
    "    popList_Rebinned = [i.mean() for i in popList.reshape(20,2)]\n",
    "    yearList_Rebinned = np.array(yearList_Rebinned)\n",
    "    popList_Rebinned = np.array(popList_Rebinned)\n",
    "    popList_Rebinned = np.nan_to_num(popList_Rebinned)\n",
    "    return yearList_Rebinned,popList_Rebinned\n",
    "            \n",
    "# fill yearList and popList from myDf_AccidentList dataFrame            \n",
    "def fillYandXData_Pop(countyCode):\n",
    "     # fill year and population list\n",
    "    yearList = np.arange(1976,2016)\n",
    "    popList = np.empty([len(yearList)])\n",
    "    for i in range(len(yearList)):\n",
    "        tmp = dfPopulationList[i+1]\n",
    "#         print (tmp)\n",
    "        tmp = tmp[tmp['FIPS'] == countyCode]\n",
    "#         print (tmp)\n",
    "        try:\n",
    "            popList[i] = int(tmp[\"POPULATION\"])\n",
    "        except:\n",
    "            popList[i] = 0\n",
    "#     print (popList)\n",
    "    return yearList,popList"
   ]
  },
  {
   "cell_type": "code",
   "execution_count": 101,
   "metadata": {},
   "outputs": [
    {
     "data": {
      "text/plain": [
       "(10170292.0, 10313835.677503774)"
      ]
     },
     "execution_count": 101,
     "metadata": {},
     "output_type": "execute_result"
    }
   ],
   "source": [
    "\n",
    "        \n",
    "def applyKalmanFilter_Pop(yearList_Rebinned_train,popList_Rebinned_train):\n",
    "    delta = 1e-5\n",
    "    trans_cov = delta / (1 - delta) * np.eye(2)   \n",
    "    kf = KalmanFilter(\n",
    "        transition_matrices=np.array([[2, 2], [0, 1]]),\n",
    "        transition_covariance=0.01 * np.eye(2)\n",
    "    )\n",
    "    \n",
    "    states_pred = kf.em(popList_Rebinned_train).smooth(popList_Rebinned_train)[0]\n",
    "    fittedArray = states_pred[:, 0]\n",
    "    means, covariances = kf.filter(popList_Rebinned_train)\n",
    "    next_mean, next_covariance = kf.filter_update( means[-1], covariances[-1])\n",
    "    prediction = next_mean[0]\n",
    "    \n",
    "    return fittedArray,prediction\n",
    "        \n",
    "def plotPopulationPerCountyUsingKalman(dfPopulationList,countyCode):\n",
    "\n",
    "    # pull the data from dataframe and fill them into arrays \n",
    "    yearList,popList = fillYandXData_Pop(countyCode)       \n",
    "    # rebin the data for better statistics:\n",
    "    yearList_Rebinned,popList_Rebinned = rebin_Pop(yearList,popList)\n",
    "    # train data is for 1976-2014 range, 2014-2015 range is for prediction\n",
    "    yearList_Rebinned_train = yearList_Rebinned[:len(yearList_Rebinned)-1]\n",
    "    popList_Rebinned_train = popList_Rebinned[:len(popList_Rebinned)-1]\n",
    "    \n",
    "    # apply KalmanFilter\n",
    "    fittedArray,prediction = applyKalmanFilter_Pop(yearList_Rebinned_train,popList_Rebinned_train)\n",
    "\n",
    "    # plot the train data\n",
    "    fig, ax = plt.subplots( nrows=1, ncols=1 )\n",
    "    ax.plot(yearList_Rebinned_train,popList_Rebinned_train,\"ro\",yearList_Rebinned_train, fittedArray,\"b-\")\n",
    "    plt.xlabel('Year')\n",
    "    plt.ylabel('Total Population')\n",
    "    plt.title(my_FIPS_Dic[\"StateandCounty\"][countyCode])\n",
    "    figName = '../fig_pop/PopFitwithKalman_Rebinned_'+ countyCode + '.pdf'\n",
    "    fig.savefig(figName)\n",
    "    plt.close(fig)\n",
    "    plt.show()\n",
    "    \n",
    "    \n",
    "    actual = popList[len(popList)-1]\n",
    "    return actual,prediction\n",
    "\n",
    "    \n",
    "plotPopulationPerCountyUsingKalman(dfPopulationList,'06037')\n",
    "# loop over all the counties and plot them"
   ]
  },
  {
   "cell_type": "markdown",
   "metadata": {},
   "source": [
    "Polynomial regression is performed below for testing"
   ]
  },
  {
   "cell_type": "code",
   "execution_count": 70,
   "metadata": {},
   "outputs": [
    {
     "data": {
      "text/plain": [
       "(55212.5, 56315.731567382812)"
      ]
     },
     "execution_count": 70,
     "metadata": {},
     "output_type": "execute_result"
    }
   ],
   "source": [
    "def plotPopIncreasePerCountyUsingPolynomial(dfPopulationList,countyCode):\n",
    "    # pull the data from dataframe and fill them into arrays \n",
    "    yearList,popList = fillYandXData_Pop(countyCode)\n",
    "    \n",
    "    # rebin the data for better statistics:\n",
    "    yearList_Rebinned,popList_Rebinned = rebin_Pop(yearList,popList)\n",
    "    \n",
    "#     yearList_Rebinned_Shrinked,popList_Rebinned_Shrinked = shrinkFitRange(yearList_Rebinned,popList_Rebinned)\n",
    "    yearList_Rebinned_Train = yearList_Rebinned[:len(yearList_Rebinned)-1]\n",
    "    popList_Rebinned_Train = popList_Rebinned[:len(popList_Rebinned)-1]\n",
    "    \n",
    "    p = np.polyfit(yearList_Rebinned_Train,popList_Rebinned_Train,4)\n",
    "    f = np.poly1d(p)\n",
    "    \n",
    "    x_new = np.linspace(yearList_Rebinned_Train[0], yearList_Rebinned_Train[-1], 100)\n",
    "    y_new = f(x_new)\n",
    "\n",
    "    \n",
    "    \n",
    "    fig, ax = plt.subplots( nrows=1, ncols=1 )\n",
    "    ax.plot(yearList_Rebinned_Train,popList_Rebinned_Train,\"ro\", x_new, y_new)\n",
    "    props = dict(boxstyle='round', facecolor='wheat', alpha=0.5)\n",
    "    plt.xlabel('Year')\n",
    "    plt.ylabel('Total Population')\n",
    "    plt.title(my_FIPS_Dic[\"StateandCounty\"][countyCode])\n",
    "    figName = '../fig_acc/PopulationFit_5YearBinWidth'+ countyCode + '.pdf'\n",
    "    fig.savefig(figName)\n",
    "    plt.close(fig) # close the figure\n",
    "    plt.savefig(\"movingAve.pdf\")\n",
    "#     plt.show()\n",
    "    \n",
    "    prediction = f( yearList_Rebinned[len(yearList_Rebinned)-1] )\n",
    "    actual = popList_Rebinned[len(popList_Rebinned)-1]\n",
    "    \n",
    "    \n",
    "    return actual,prediction\n",
    "    \n",
    "plotPopIncreasePerCountyUsingPolynomial (dfPopulationList,'01001') "
   ]
  },
  {
   "cell_type": "markdown",
   "metadata": {},
   "source": [
    "Fit all the population data for each county"
   ]
  },
  {
   "cell_type": "code",
   "execution_count": 99,
   "metadata": {
    "collapsed": true
   },
   "outputs": [],
   "source": [
    "def predictPopulation_All(my_FIPS_Dic):\n",
    "    res = []\n",
    "    for k,v in my_FIPS_Dic[\"StateandCounty\"].items():\n",
    "        actual,prediction = plotPopulationPerCountyUsingKalman(dfPopulationList,k)\n",
    "#         actual,prediction = plotPopIncreasePerCountyUsingPolynomial(dfPopulationList,k)\n",
    "        res.append( {\"FIPS\":k,\"Actual\":actual,\"Prediction\":prediction} )\n",
    "    return pd.DataFrame(res)\n"
   ]
  },
  {
   "cell_type": "code",
   "execution_count": 102,
   "metadata": {},
   "outputs": [],
   "source": [
    "myDf_Population_Results = predictPopulation_All(my_FIPS_Dic)\n",
    "myDf_Population_Results.to_csv(\"../data/RESULTS/Population_ActualandPredictionUsingKalman_2Year.csv\",index=False)\n",
    "# myDf_Population_Results.to_csv(\"../data/RESULTS/Population_ActualandPredictionUsingPolynomial_5Year.csv\",index=False)\n",
    "# myDf_Population_Results = pd.read_csv(\"../data/RESULTS/Population_ActualandPredictionUsingPolynomial_5Year.csv\")\n",
    "# myDf_Population_Results.corr()"
   ]
  },
  {
   "cell_type": "markdown",
   "metadata": {},
   "source": [
    "## Combine all the results"
   ]
  },
  {
   "cell_type": "code",
   "execution_count": 103,
   "metadata": {
    "collapsed": true
   },
   "outputs": [],
   "source": [
    "myDf_Population_Results = myDf_Population_Results.rename(columns={'Actual': 'Pop_Actual', 'Prediction': 'Pop_Prediction'})\n",
    "myDf_NumberofDeaths_Results = myDf_NumberofDeaths_Results.rename(columns={'Actual': 'Fat_Actual', 'Prediction': 'Fat_Prediction'})\n",
    "\n"
   ]
  },
  {
   "cell_type": "code",
   "execution_count": 104,
   "metadata": {
    "collapsed": true
   },
   "outputs": [],
   "source": [
    "myDf_Results =  pd.merge(myDf_Population_Results, myDf_NumberofDeaths_Results, on='FIPS', how='inner')\n",
    "myDf_Results[\"ActualFatalityRate\"] = myDf_Results[\"Fat_Actual\"]/myDf_Results[\"Pop_Actual\"]*10000\n",
    "myDf_Results[\"PredictionFatalityRate\"] = myDf_Results[\"Fat_Prediction\"]/myDf_Results[\"Pop_Prediction\"]*10000\n"
   ]
  },
  {
   "cell_type": "code",
   "execution_count": 108,
   "metadata": {},
   "outputs": [
    {
     "data": {
      "text/html": [
       "<div>\n",
       "<style>\n",
       "    .dataframe thead tr:only-child th {\n",
       "        text-align: right;\n",
       "    }\n",
       "\n",
       "    .dataframe thead th {\n",
       "        text-align: left;\n",
       "    }\n",
       "\n",
       "    .dataframe tbody tr th {\n",
       "        vertical-align: top;\n",
       "    }\n",
       "</style>\n",
       "<table border=\"1\" class=\"dataframe\">\n",
       "  <thead>\n",
       "    <tr style=\"text-align: right;\">\n",
       "      <th></th>\n",
       "      <th>Pop_Actual</th>\n",
       "      <th>Pop_Prediction</th>\n",
       "      <th>Fat_Actual</th>\n",
       "      <th>Fat_Prediction</th>\n",
       "      <th>ActualFatalityRate</th>\n",
       "      <th>PredictionFatalityRate</th>\n",
       "    </tr>\n",
       "  </thead>\n",
       "  <tbody>\n",
       "    <tr>\n",
       "      <th>Pop_Actual</th>\n",
       "      <td>1.000000</td>\n",
       "      <td>0.997524</td>\n",
       "      <td>0.906050</td>\n",
       "      <td>0.904270</td>\n",
       "      <td>-0.084491</td>\n",
       "      <td>-0.158565</td>\n",
       "    </tr>\n",
       "    <tr>\n",
       "      <th>Pop_Prediction</th>\n",
       "      <td>0.997524</td>\n",
       "      <td>1.000000</td>\n",
       "      <td>0.903719</td>\n",
       "      <td>0.901968</td>\n",
       "      <td>-0.085209</td>\n",
       "      <td>-0.160772</td>\n",
       "    </tr>\n",
       "    <tr>\n",
       "      <th>Fat_Actual</th>\n",
       "      <td>0.906050</td>\n",
       "      <td>0.903719</td>\n",
       "      <td>1.000000</td>\n",
       "      <td>0.982061</td>\n",
       "      <td>-0.045250</td>\n",
       "      <td>-0.143342</td>\n",
       "    </tr>\n",
       "    <tr>\n",
       "      <th>Fat_Prediction</th>\n",
       "      <td>0.904270</td>\n",
       "      <td>0.901968</td>\n",
       "      <td>0.982061</td>\n",
       "      <td>1.000000</td>\n",
       "      <td>-0.073505</td>\n",
       "      <td>-0.135152</td>\n",
       "    </tr>\n",
       "    <tr>\n",
       "      <th>ActualFatalityRate</th>\n",
       "      <td>-0.084491</td>\n",
       "      <td>-0.085209</td>\n",
       "      <td>-0.045250</td>\n",
       "      <td>-0.073505</td>\n",
       "      <td>1.000000</td>\n",
       "      <td>0.513175</td>\n",
       "    </tr>\n",
       "    <tr>\n",
       "      <th>PredictionFatalityRate</th>\n",
       "      <td>-0.158565</td>\n",
       "      <td>-0.160772</td>\n",
       "      <td>-0.143342</td>\n",
       "      <td>-0.135152</td>\n",
       "      <td>0.513175</td>\n",
       "      <td>1.000000</td>\n",
       "    </tr>\n",
       "  </tbody>\n",
       "</table>\n",
       "</div>"
      ],
      "text/plain": [
       "                        Pop_Actual  Pop_Prediction  Fat_Actual  \\\n",
       "Pop_Actual                1.000000        0.997524    0.906050   \n",
       "Pop_Prediction            0.997524        1.000000    0.903719   \n",
       "Fat_Actual                0.906050        0.903719    1.000000   \n",
       "Fat_Prediction            0.904270        0.901968    0.982061   \n",
       "ActualFatalityRate       -0.084491       -0.085209   -0.045250   \n",
       "PredictionFatalityRate   -0.158565       -0.160772   -0.143342   \n",
       "\n",
       "                        Fat_Prediction  ActualFatalityRate  \\\n",
       "Pop_Actual                    0.904270           -0.084491   \n",
       "Pop_Prediction                0.901968           -0.085209   \n",
       "Fat_Actual                    0.982061           -0.045250   \n",
       "Fat_Prediction                1.000000           -0.073505   \n",
       "ActualFatalityRate           -0.073505            1.000000   \n",
       "PredictionFatalityRate       -0.135152            0.513175   \n",
       "\n",
       "                        PredictionFatalityRate  \n",
       "Pop_Actual                           -0.158565  \n",
       "Pop_Prediction                       -0.160772  \n",
       "Fat_Actual                           -0.143342  \n",
       "Fat_Prediction                       -0.135152  \n",
       "ActualFatalityRate                    0.513175  \n",
       "PredictionFatalityRate                1.000000  "
      ]
     },
     "execution_count": 108,
     "metadata": {},
     "output_type": "execute_result"
    }
   ],
   "source": [
    "test = myDf_Results[myDf_Results[\"Pop_Actual\"]>50000]\n",
    "# myDf_ResultswithPolynomial_4YearIntervals = myDf_Results\n",
    "myDf_ResultswithKalman_2YearIntervals = myDf_Results\n",
    "# test.corr()\n",
    "myDf_ResultswithPolynomial_4YearIntervals.corr()\n",
    "myDf_ResultswithKalman_2YearIntervals.corr()\n",
    "# test.corr()"
   ]
  },
  {
   "cell_type": "code",
   "execution_count": 83,
   "metadata": {},
   "outputs": [
    {
     "data": {
      "image/png": "[encoded data removed]",
      "text/plain": [
       "<matplotlib.figure.Figure at 0x1a171bf550>"
      ]
     },
     "metadata": {},
     "output_type": "display_data"
    }
   ],
   "source": [
    "test = myDf_Results[myDf_Results[\"Pop_Actual\"]>100000]\n",
    "fig = plt.figure()\n",
    "ax = plt.gca()\n",
    "\n",
    "\n",
    "ax.scatter(test[\"ActualFatalityRate\"],test[\"PredictionFatalityRate\"], c='green', alpha=0.5, edgecolors='none')\n",
    "textstr = 'For the years between 2012 and 2015'\n",
    "props = dict(boxstyle='round', facecolor='#42f4a1', alpha=0.4)\n",
    "ax.text(0.05, 0.95, textstr, transform=ax.transAxes, fontsize=10,verticalalignment='top', bbox=props)\n",
    "plt.xlabel(\"Deaths/10000 People, Actual Data\")\n",
    "plt.ylabel(\"Deaths/10000 People, Prediction\")\n",
    "plt.title(\"Counties where population > 50000\")\n",
    "plt.show()\n",
    "fig.savefig(\"../fig/Scatter_ActualvsPrediction_5Years.pdf\")\n",
    "plt.close(fig) # close the figure"
   ]
  },
  {
   "cell_type": "code",
   "execution_count": null,
   "metadata": {
    "collapsed": true
   },
   "outputs": [],
   "source": []
  }
 ],
 "metadata": {
  "kernelspec": {
   "display_name": "Python 3",
   "language": "python",
   "name": "python3"
  },
  "language_info": {
   "codemirror_mode": {
    "name": "ipython",
    "version": 3
   },
   "file_extension": ".py",
   "mimetype": "text/x-python",
   "name": "python",
   "nbconvert_exporter": "python",
   "pygments_lexer": "ipython3",
   "version": "3.6.2"
  }
 },
 "nbformat": 4,
 "nbformat_minor": 2
}
